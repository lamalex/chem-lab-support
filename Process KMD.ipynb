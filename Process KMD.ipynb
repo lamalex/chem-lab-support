{
 "cells": [
  {
   "cell_type": "markdown",
   "metadata": {},
   "source": [
    "# Processing KMD with python!\n",
    "## A joint effort by Scarlet Aguilar-Martinez and Alex Launi"
   ]
  },
  {
   "cell_type": "markdown",
   "metadata": {},
   "source": [
    "A little prep. Import our data handling libraries."
   ]
  },
  {
   "cell_type": "code",
   "execution_count": null,
   "metadata": {},
   "outputs": [],
   "source": [
    "import numpy as np\n",
    "import pandas as pd"
   ]
  },
  {
   "cell_type": "markdown",
   "metadata": {},
   "source": [
    "Load the 12, and 24 hour data"
   ]
  },
  {
   "cell_type": "code",
   "execution_count": null,
   "metadata": {},
   "outputs": [],
   "source": [
    "df_12h = pd.read_csv('data/12h_cleaned.csv')\n",
    "df_24h = pd.read_csv('data/24h_cleaned.csv')"
   ]
  },
  {
   "cell_type": "markdown",
   "metadata": {},
   "source": [
    "This function takes a dataframe (sheet) and calculates the relative intensity"
   ]
  },
  {
   "cell_type": "code",
   "execution_count": null,
   "metadata": {},
   "outputs": [],
   "source": [
    "def calc_relative_intensity(df):\n",
    "    total_intensity = df['PeakHeight'].sum()\n",
    "    return (df['PeakHeight'] / total_intensity) * 100"
   ]
  },
  {
   "cell_type": "markdown",
   "metadata": {},
   "source": [
    "Append a column onto each of our frames with the relative intensity"
   ]
  },
  {
   "cell_type": "code",
   "execution_count": null,
   "metadata": {},
   "outputs": [],
   "source": [
    "df_12h['RelativeIntensity'] = calc_relative_intensity(df_12h)\n",
    "df_24h['RelativeIntensity'] = calc_relative_intensity(df_24h)"
   ]
  }
 ],
 "metadata": {
  "kernelspec": {
   "display_name": "Python 3",
   "language": "python",
   "name": "python3"
  },
  "language_info": {
   "codemirror_mode": {
    "name": "ipython",
    "version": 3
   },
   "file_extension": ".py",
   "mimetype": "text/x-python",
   "name": "python",
   "nbconvert_exporter": "python",
   "pygments_lexer": "ipython3",
   "version": "3.7.6"
  }
 },
 "nbformat": 4,
 "nbformat_minor": 4
}
